{
 "cells": [
  {
   "cell_type": "code",
   "execution_count": 1,
   "metadata": {},
   "outputs": [],
   "source": [
    "from IPython.core.display import display, HTML\n",
    "import pandas as pd\n",
    "import numpy as np\n",
    "import copy\n",
    "import os\n",
    "%load_ext autoreload\n",
    "%autoreload 2"
   ]
  },
  {
   "cell_type": "code",
   "execution_count": 2,
   "metadata": {},
   "outputs": [
    {
     "data": {
      "text/plain": [
       "array([[0., 0., 1., 1., 0., 0., 1., 1.],\n",
       "       [0., 0., 0., 1., 0., 1., 0., 0.],\n",
       "       [0., 0., 0., 0., 1., 0., 0., 0.],\n",
       "       [0., 1., 0., 0., 1., 0., 0., 0.],\n",
       "       [0., 1., 0., 0., 0., 1., 0., 0.],\n",
       "       [0., 0., 0., 0., 0., 0., 1., 1.],\n",
       "       [0., 1., 0., 1., 0., 0., 0., 0.],\n",
       "       [0., 0., 0., 0., 0., 0., 0., 0.]])"
      ]
     },
     "execution_count": 2,
     "metadata": {},
     "output_type": "execute_result"
    }
   ],
   "source": [
    "import sys\n",
    "sys.path.insert(0,\"/local/rankability_toolbox\")\n",
    "\n",
    "PATH_TO_RANKLIB='/local/ranklib'\n",
    "\n",
    "from numpy import ix_\n",
    "import numpy as np\n",
    "\n",
    "D = np.loadtxt(PATH_TO_RANKLIB+\"/problem_instances/instances/graphs/NFL-2007-D_Matrix.txt\",delimiter=\",\")\n",
    "\n",
    "Dsmall = D[ix_(np.arange(8),np.arange(8))]\n",
    "Dsmall"
   ]
  },
  {
   "cell_type": "code",
   "execution_count": 3,
   "metadata": {},
   "outputs": [],
   "source": [
    "import pyrankability"
   ]
  },
  {
   "cell_type": "code",
   "execution_count": 9,
   "metadata": {},
   "outputs": [],
   "source": []
  },
  {
   "cell_type": "code",
   "execution_count": 110,
   "metadata": {},
   "outputs": [
    {
     "data": {
      "text/plain": [
       "6.0"
      ]
     },
     "execution_count": 110,
     "metadata": {},
     "output_type": "execute_result"
    }
   ],
   "source": [
    "(6*6-6)/2.-9"
   ]
  },
  {
   "cell_type": "code",
   "execution_count": 44,
   "metadata": {},
   "outputs": [
    {
     "name": "stdout",
     "output_type": "stream",
     "text": [
      "30.0\n",
      "[[0 1 0 0 1 1]\n",
      " [0 0 1 1 0 0]\n",
      " [1 1 0 0 0 0]\n",
      " [1 0 0 0 0 1]\n",
      " [0 0 0 0 0 0]\n",
      " [0 1 1 0 1 0]]\n",
      "finished\n"
     ]
    }
   ],
   "source": [
    "import itertools\n",
    "import random \n",
    "from collections import Counter\n",
    "import math\n",
    "\n",
    "D = np.zeros((6,6),dtype=int)\n",
    "for i in range(D.shape[0]):\n",
    "    for j in range(i+1,D.shape[0]):\n",
    "        D[i,j] = 1\n",
    "        \n",
    "Dtest = np.zeros((6,6),dtype=int)\n",
    "Dtest[0,5] = 1\n",
    "Dtest[0,4] = 1\n",
    "Dtest[0,1] = 1\n",
    "Dtest[1,2] = 1\n",
    "Dtest[1,3] = 1\n",
    "Dtest[2,1] = 1\n",
    "Dtest[3,0] = 1\n",
    "Dtest[3,5] = 1\n",
    "Dtest[5,1] = 1\n",
    "Dtest[5,2] = 1\n",
    "Dtest[5,4] = 1\n",
    "D = Dtest\n",
    "\n",
    "target_k = 9\n",
    "target_p = 12\n",
    "match_k = []\n",
    "match_p = []\n",
    "match_both = []\n",
    "max_count = 100000\n",
    "for num_ones in [1]:#[target_k]:\n",
    "    possible_inxs = list(set(list(range(D.shape[0]*D.shape[0]))) - set([0,6+1,6+6+2,6+6+6+3,6+6+6+6+4,6+6+6+6+6+5]))\n",
    "    n = len(possible_inxs)\n",
    "    r = num_ones\n",
    "    total = math.factorial(n) / math.factorial(r) / math.factorial(n-r)\n",
    "    print(total)\n",
    "    count = 0\n",
    "    for one_inxs in itertools.combinations(possible_inxs,num_ones):\n",
    "        count += 1\n",
    "        if count > max_count:\n",
    "            print(\"reached max\")\n",
    "            break\n",
    "        if count % 100 == 0:\n",
    "            print(count/total)\n",
    "        remaining_inxs = list(set(possible_inxs) - set(one_inxs))\n",
    "        Dcopy = copy.copy(D)\n",
    "        for ix in one_inxs:\n",
    "            if Dcopy.flat[ix] == 1:\n",
    "                Dcopy.flat[ix] = 0\n",
    "            else:\n",
    "                Dcopy.flat[ix] = 1\n",
    "        k,P = pyrankability.exact.find_P_simple(Dcopy)\n",
    "        if len(P) != target_p:\n",
    "            continue\n",
    "        P = np.array(P)+1\n",
    "        d = dict(Counter(P[:,0]))\n",
    "        t1 = len(d.values())\n",
    "        vs = list(d.values())\n",
    "        vs.sort()\n",
    "        d2 = dict(Counter(P[:,1]))\n",
    "        t2 = len(d2.values())\n",
    "        vs2 = list(d2.values())\n",
    "        vs2.sort()\n",
    "        if tuple(vs) == (2,10) and tuple(vs2) == (2,2,2,6):\n",
    "            print(Dcopy)\n",
    "            match_p.append(Dcopy) \n",
    "print('finished')"
   ]
  },
  {
   "cell_type": "code",
   "execution_count": 46,
   "metadata": {},
   "outputs": [
    {
     "data": {
      "text/plain": [
       "array([[0, 1, 0, 0, 1, 1],\n",
       "       [0, 0, 1, 1, 0, 0],\n",
       "       [0, 1, 0, 0, 0, 0],\n",
       "       [1, 0, 0, 0, 0, 1],\n",
       "       [0, 0, 0, 0, 0, 0],\n",
       "       [0, 1, 1, 0, 0, 0]])"
      ]
     },
     "execution_count": 46,
     "metadata": {},
     "output_type": "execute_result"
    }
   ],
   "source": [
    "Dcopy"
   ]
  },
  {
   "cell_type": "code",
   "execution_count": 52,
   "metadata": {},
   "outputs": [
    {
     "name": "stdout",
     "output_type": "stream",
     "text": [
      "9\n"
     ]
    },
    {
     "data": {
      "text/plain": [
       "array([[2, 2, 3, 3, 3, 3, 3, 3, 3, 3, 3, 3],\n",
       "       [3, 3, 0, 0, 0, 0, 0, 0, 2, 2, 5, 5],\n",
       "       [0, 0, 5, 5, 5, 5, 5, 5, 0, 0, 2, 2],\n",
       "       [5, 5, 1, 1, 2, 2, 4, 4, 5, 5, 0, 0],\n",
       "       [1, 4, 2, 4, 1, 4, 1, 2, 1, 4, 1, 4],\n",
       "       [4, 1, 4, 2, 4, 1, 2, 1, 4, 1, 4, 1]])"
      ]
     },
     "execution_count": 52,
     "metadata": {},
     "output_type": "execute_result"
    }
   ],
   "source": [
    "k,P = pyrankability.exact.find_P_simple(match_p[-1])\n",
    "print(k)\n",
    "np.array(P).transpose()"
   ]
  },
  {
   "cell_type": "code",
   "execution_count": null,
   "metadata": {},
   "outputs": [],
   "source": [
    "    match_p"
   ]
  },
  {
   "cell_type": "code",
   "execution_count": 27,
   "metadata": {},
   "outputs": [
    {
     "data": {
      "text/plain": [
       "(9,\n",
       " [(0, 1, 3, 5, 2, 4),\n",
       "  (0, 1, 3, 5, 4, 2),\n",
       "  (0, 3, 5, 1, 2, 4),\n",
       "  (0, 3, 5, 1, 4, 2),\n",
       "  (0, 3, 5, 2, 1, 4),\n",
       "  (0, 3, 5, 2, 4, 1),\n",
       "  (0, 3, 5, 4, 1, 2),\n",
       "  (0, 3, 5, 4, 2, 1),\n",
       "  (0, 5, 1, 2, 3, 4),\n",
       "  (0, 5, 1, 2, 4, 3),\n",
       "  (0, 5, 1, 3, 2, 4),\n",
       "  (0, 5, 1, 3, 4, 2),\n",
       "  (0, 5, 1, 4, 2, 3),\n",
       "  (0, 5, 1, 4, 3, 2),\n",
       "  (0, 5, 2, 1, 3, 4),\n",
       "  (0, 5, 2, 1, 4, 3),\n",
       "  (0, 5, 2, 4, 1, 3),\n",
       "  (0, 5, 4, 1, 2, 3),\n",
       "  (0, 5, 4, 1, 3, 2),\n",
       "  (0, 5, 4, 2, 1, 3),\n",
       "  (3, 0, 5, 1, 2, 4),\n",
       "  (3, 0, 5, 1, 4, 2),\n",
       "  (3, 0, 5, 2, 1, 4),\n",
       "  (3, 0, 5, 2, 4, 1),\n",
       "  (3, 0, 5, 4, 1, 2),\n",
       "  (3, 0, 5, 4, 2, 1)])"
      ]
     },
     "execution_count": 27,
     "metadata": {},
     "output_type": "execute_result"
    }
   ],
   "source": [
    "Dtest = np.zeros((6,6),dtype=int)\n",
    "Dtest[0,5] = 1\n",
    "Dtest[0,4] = 1\n",
    "Dtest[0,1] = 1\n",
    "Dtest[1,2] = 1\n",
    "Dtest[1,3] = 1\n",
    "Dtest[2,1] = 1\n",
    "#Dtest[3,0] = 1\n",
    "Dtest[3,5] = 1\n",
    "Dtest[5,1] = 1\n",
    "Dtest[5,2] = 1\n",
    "Dtest[5,4] = 1\n",
    "k,P = pyrankability.exact.find_P_simple(Dtest)\n",
    "k,P"
   ]
  },
  {
   "cell_type": "code",
   "execution_count": 55,
   "metadata": {},
   "outputs": [
    {
     "name": "stdout",
     "output_type": "stream",
     "text": [
      "k 9\n",
      "[[3 3 4 4 4 4 4 4 4 4 4 4]\n",
      " [4 4 1 1 1 1 1 1 3 3 6 6]\n",
      " [1 1 6 6 6 6 6 6 1 1 3 3]\n",
      " [6 6 2 2 3 3 5 5 6 6 1 1]\n",
      " [2 5 3 5 2 5 2 3 2 5 2 5]\n",
      " [5 2 5 3 5 2 3 2 5 2 5 2]]\n",
      "[2, 10]\n",
      "[2, 2, 2, 6]\n",
      "[2, 4, 6]\n",
      "[2, 2, 2, 2, 4]\n",
      "[2, 5, 5]\n",
      "[2, 5, 5]\n"
     ]
    }
   ],
   "source": [
    "from collections import Counter\n",
    "for Dcopy in [match_p[-1]]:\n",
    "    k,P = pyrankability.exact.find_P_simple(Dcopy)\n",
    "    P = np.array(P)+1\n",
    "\n",
    "    #t1 = len(dict(Counter(P[:,0])).values())\n",
    "    print(\"k\",k)\n",
    "    print(P.transpose())\n",
    "    for i in range(6):\n",
    "        d = dict(Counter(P[:,i]))\n",
    "        t = list(d.values())\n",
    "        t.sort()\n",
    "        print(t)"
   ]
  },
  {
   "cell_type": "code",
   "execution_count": 93,
   "metadata": {},
   "outputs": [],
   "source": [
    "perm = np.array([1,2,5,4,3,6])-1\n",
    "Dnew = pyrankability.common.permute_D(match_p[-1],perm)\n",
    "rows,cols = np.where(Dnew == 0)\n",
    "inxs = []\n",
    "for i in range(len(rows)):\n",
    "    if rows[i] == cols[i]:\n",
    "        continue\n",
    "    inxs.append((rows[i],cols[i]))\n",
    "saved = []\n",
    "for choice in itertools.combinations(inxs,2):\n",
    "    Dcopy = copy.copy(Dnew)\n",
    "    for item in choice:\n",
    "        Dcopy[item[0],item[1]] = 1\n",
    "    k,P = pyrankability.exact.find_P_simple(Dcopy)\n",
    "    P = np.array(P)+1\n",
    "    if len(P) == 2 and k == 7:\n",
    "        saved.append((Dcopy,choice))"
   ]
  },
  {
   "cell_type": "code",
   "execution_count": 94,
   "metadata": {},
   "outputs": [
    {
     "name": "stdout",
     "output_type": "stream",
     "text": [
      "Option 1\n",
      "[[0 1 1 0 0 1]\n",
      " [0 0 1 1 1 0]\n",
      " [0 0 0 0 0 0]\n",
      " [1 0 0 0 0 1]\n",
      " [1 1 0 0 0 1]\n",
      " [0 1 1 0 1 0]]\n",
      "[[2 3]\n",
      " [5 6]]\n",
      "k 7\n",
      "[[4 5]\n",
      " [5 4]\n",
      " [1 1]\n",
      " [6 6]\n",
      " [2 2]\n",
      " [3 3]]\n",
      "Option 2\n",
      "[[0 1 1 0 0 1]\n",
      " [0 0 0 1 1 0]\n",
      " [0 1 0 0 1 0]\n",
      " [1 0 0 0 0 1]\n",
      " [1 1 0 0 0 0]\n",
      " [0 1 1 0 1 0]]\n",
      "[[3 2]\n",
      " [3 5]]\n",
      "k 7\n",
      "[[4 4]\n",
      " [1 1]\n",
      " [6 6]\n",
      " [3 3]\n",
      " [2 5]\n",
      " [5 2]]\n",
      "Option 3\n",
      "[[0 1 1 0 0 1]\n",
      " [0 0 0 1 1 0]\n",
      " [0 1 0 0 0 0]\n",
      " [1 0 0 0 0 1]\n",
      " [1 1 0 0 0 1]\n",
      " [0 1 1 0 1 0]]\n",
      "[[3 2]\n",
      " [5 6]]\n",
      "k 7\n",
      "[[4 5]\n",
      " [5 4]\n",
      " [1 1]\n",
      " [6 6]\n",
      " [3 3]\n",
      " [2 2]]\n",
      "Option 4\n",
      "[[0 1 1 0 0 1]\n",
      " [0 0 0 1 1 0]\n",
      " [0 0 0 0 0 0]\n",
      " [1 1 0 0 0 1]\n",
      " [1 1 0 1 0 0]\n",
      " [0 1 1 0 1 0]]\n",
      "[[4 2]\n",
      " [5 4]]\n",
      "k 7\n",
      "[[5 5]\n",
      " [4 4]\n",
      " [1 1]\n",
      " [6 6]\n",
      " [2 3]\n",
      " [3 2]]\n",
      "Option 5\n",
      "[[0 1 1 0 0 1]\n",
      " [0 0 0 1 1 0]\n",
      " [0 0 0 0 0 0]\n",
      " [1 1 0 0 0 1]\n",
      " [1 1 0 0 0 0]\n",
      " [1 1 1 0 1 0]]\n",
      "[[4 2]\n",
      " [6 1]]\n",
      "k 7\n",
      "[[4 4]\n",
      " [6 6]\n",
      " [5 5]\n",
      " [1 1]\n",
      " [2 3]\n",
      " [3 2]]\n",
      "Option 6\n",
      "[[0 1 1 0 0 1]\n",
      " [0 0 0 1 1 0]\n",
      " [0 0 0 0 0 0]\n",
      " [1 0 1 0 0 1]\n",
      " [1 1 0 1 0 0]\n",
      " [0 1 1 0 1 0]]\n",
      "[[4 3]\n",
      " [5 4]]\n",
      "k 7\n",
      "[[5 5]\n",
      " [4 4]\n",
      " [1 1]\n",
      " [6 6]\n",
      " [2 3]\n",
      " [3 2]]\n",
      "Option 7\n",
      "[[0 1 1 0 0 1]\n",
      " [0 0 0 1 1 0]\n",
      " [0 0 0 0 0 0]\n",
      " [1 0 1 0 0 1]\n",
      " [1 1 0 0 0 0]\n",
      " [1 1 1 0 1 0]]\n",
      "[[4 3]\n",
      " [6 1]]\n",
      "k 7\n",
      "[[4 4]\n",
      " [6 6]\n",
      " [5 5]\n",
      " [1 1]\n",
      " [2 3]\n",
      " [3 2]]\n",
      "Option 8\n",
      "[[0 1 1 0 0 1]\n",
      " [0 0 0 1 1 0]\n",
      " [0 0 0 0 0 0]\n",
      " [1 0 0 0 1 1]\n",
      " [1 1 0 0 0 1]\n",
      " [0 1 1 0 1 0]]\n",
      "[[4 5]\n",
      " [5 6]]\n",
      "k 7\n",
      "[[4 4]\n",
      " [5 5]\n",
      " [1 1]\n",
      " [6 6]\n",
      " [2 3]\n",
      " [3 2]]\n",
      "Option 9\n",
      "[[0 1 1 0 0 1]\n",
      " [0 0 0 1 1 0]\n",
      " [0 0 0 0 0 0]\n",
      " [1 0 0 0 1 1]\n",
      " [1 1 0 0 0 0]\n",
      " [1 1 1 0 1 0]]\n",
      "[[4 5]\n",
      " [6 1]]\n",
      "k 7\n",
      "[[4 4]\n",
      " [6 6]\n",
      " [5 5]\n",
      " [1 1]\n",
      " [2 3]\n",
      " [3 2]]\n",
      "Option 10\n",
      "[[0 1 1 0 0 1]\n",
      " [0 0 0 1 1 0]\n",
      " [0 0 0 0 0 0]\n",
      " [1 0 0 0 0 1]\n",
      " [1 1 1 1 0 0]\n",
      " [0 1 1 0 1 0]]\n",
      "[[5 3]\n",
      " [5 4]]\n",
      "k 7\n",
      "[[5 5]\n",
      " [4 4]\n",
      " [1 1]\n",
      " [6 6]\n",
      " [2 3]\n",
      " [3 2]]\n",
      "Option 11\n",
      "[[0 1 1 0 0 1]\n",
      " [0 0 0 1 1 0]\n",
      " [0 0 0 0 0 0]\n",
      " [1 0 0 0 0 1]\n",
      " [1 1 1 0 0 0]\n",
      " [1 1 1 0 1 0]]\n",
      "[[5 3]\n",
      " [6 1]]\n",
      "k 7\n",
      "[[4 4]\n",
      " [6 6]\n",
      " [5 5]\n",
      " [1 1]\n",
      " [2 3]\n",
      " [3 2]]\n",
      "Option 12\n",
      "[[0 1 1 0 0 1]\n",
      " [0 0 0 1 1 0]\n",
      " [0 0 0 0 0 0]\n",
      " [1 0 0 0 0 1]\n",
      " [1 1 0 1 0 1]\n",
      " [0 1 1 0 1 0]]\n",
      "[[5 4]\n",
      " [5 6]]\n",
      "k 7\n",
      "[[5 5]\n",
      " [4 4]\n",
      " [1 1]\n",
      " [6 6]\n",
      " [2 3]\n",
      " [3 2]]\n"
     ]
    }
   ],
   "source": [
    "from collections import Counter\n",
    "i = 1\n",
    "for Dcopy,choice in saved:\n",
    "    print(\"Option\",i)\n",
    "    k,P = pyrankability.exact.find_P_simple(Dcopy)\n",
    "    P = np.array(P)+1\n",
    "\n",
    "    #t1 = len(dict(Counter(P[:,0])).values())\n",
    "    print(Dcopy)\n",
    "    print(np.array(choice)+1)\n",
    "    print(\"k\",k)\n",
    "    print(P.transpose())\n",
    "    i+=1"
   ]
  },
  {
   "cell_type": "code",
   "execution_count": 69,
   "metadata": {},
   "outputs": [
    {
     "name": "stdout",
     "output_type": "stream",
     "text": [
      "here\n",
      "here\n",
      "here\n",
      "here\n",
      "here\n",
      "here\n",
      "here\n",
      "here\n",
      "here\n",
      "here\n",
      "here\n",
      "here\n"
     ]
    }
   ],
   "source": [
    "P_target = [[5,4,1,6,3,2],\n",
    "            [5,4,1,6,2,3],\n",
    "            [4,5,1,6,2,3],\n",
    "            [4,5,1,6,3,2],\n",
    "            [4,1,6,3,5,2],\n",
    "            [4,1,6,3,2,5],\n",
    "            [4,1,6,2,5,3],\n",
    "            [4,1,6,2,3,5],\n",
    "            [4,1,6,5,2,3],\n",
    "            [4,1,6,5,3,2],\n",
    "            [4,6,5,1,3,2],\n",
    "            [4,6,5,1,2,3]\n",
    "           ]\n",
    "for i in range(len(P_target)):\n",
    "    P_target[i] = tuple(P_target[i])\n",
    "for perm in P:\n",
    "    if tuple(perm) in P_target:\n",
    "        print('here')\n",
    "    else:\n",
    "        print('not')"
   ]
  },
  {
   "cell_type": "code",
   "execution_count": 63,
   "metadata": {},
   "outputs": [
    {
     "ename": "SyntaxError",
     "evalue": "invalid syntax (<ipython-input-63-ba26628a321b>, line 15)",
     "output_type": "error",
     "traceback": [
      "\u001b[0;36m  File \u001b[0;32m\"<ipython-input-63-ba26628a321b>\"\u001b[0;36m, line \u001b[0;32m15\u001b[0m\n\u001b[0;31m    P_determined = [[4 1 6 2 3 5]\u001b[0m\n\u001b[0m                       ^\u001b[0m\n\u001b[0;31mSyntaxError\u001b[0m\u001b[0;31m:\u001b[0m invalid syntax\n"
     ]
    }
   ],
   "source": [
    "P_target = [[5,4,1,6,3,2],\n",
    "            [5,4,1,6,2,3],\n",
    "            [4,5,1,6,2,3],\n",
    "            [4,5,1,6,3,2],\n",
    "            [4,1,6,3,5,2],\n",
    "            [4,1,6,3,2,5],\n",
    "            [4,1,6,2,5,3],\n",
    "            [4,1,6,2,3,5],\n",
    "            [4,1,6,5,2,3],\n",
    "            [4,1,6,5,3,2],\n",
    "            [4,6,5,1,3,2],\n",
    "            [4,6,5,1,2,3]\n",
    "           ]\n",
    "\n",
    "P_determined = [[4 1 6 2 3 5]\n",
    " [4 1 6 2 5 3]\n",
    " [4 1 6 3 2 5]\n",
    " [4 1 6 3 5 2]\n",
    " [4 1 6 5 2 3]\n",
    " [4 1 6 5 3 2]\n",
    " [4 5 1 6 2 3]\n",
    " [4 5 1 6 3 2]\n",
    " [4 6 5 1 2 3]\n",
    " [4 6 5 1 3 2]\n",
    " [5 4 1 6 2 3]\n",
    " [5 4 1 6 3 2]]\n",
    "\n",
    "P_target = np.array(P_target)\n",
    "print(P_target.transpose())\n",
    "for i in range(6):\n",
    "    d = dict(Counter(P_target[:,i]))\n",
    "    t = list(d.values())\n",
    "    t.sort()\n",
    "    print(t)"
   ]
  },
  {
   "cell_type": "code",
   "execution_count": null,
   "metadata": {},
   "outputs": [],
   "source": [
    "[2, 5]\n",
    "[2, 5, 6]\n",
    "[4, 5, 6]\n",
    "[3, 4, 5, 7]\n",
    "[3, 5, 7]\n",
    "[3, 5, 7]"
   ]
  },
  {
   "cell_type": "code",
   "execution_count": 10,
   "metadata": {},
   "outputs": [
    {
     "ename": "NameError",
     "evalue": "name 'joblib' is not defined",
     "output_type": "error",
     "traceback": [
      "\u001b[0;31m---------------------------------------------------------------------------\u001b[0m",
      "\u001b[0;31mNameError\u001b[0m                                 Traceback (most recent call last)",
      "\u001b[0;32m<ipython-input-10-1ae2176a9b2d>\u001b[0m in \u001b[0;36m<module>\u001b[0;34m\u001b[0m\n\u001b[0;32m----> 1\u001b[0;31m \u001b[0mDchanges\u001b[0m \u001b[0;34m=\u001b[0m \u001b[0mjoblib\u001b[0m\u001b[0;34m.\u001b[0m\u001b[0mload\u001b[0m\u001b[0;34m(\u001b[0m\u001b[0;34m'Dchanges.joblib.z'\u001b[0m\u001b[0;34m)\u001b[0m\u001b[0;34m\u001b[0m\u001b[0;34m\u001b[0m\u001b[0m\n\u001b[0m",
      "\u001b[0;31mNameError\u001b[0m: name 'joblib' is not defined"
     ]
    }
   ],
   "source": [
    "Dtilde, changes, output = pyrankability.improve.greedy(D,1,verbose=False)"
   ]
  },
  {
   "cell_type": "code",
   "execution_count": null,
   "metadata": {},
   "outputs": [],
   "source": [
    "Dchanges"
   ]
  },
  {
   "cell_type": "code",
   "execution_count": 80,
   "metadata": {},
   "outputs": [
    {
     "name": "stdout",
     "output_type": "stream",
     "text": [
      "{\"k\": 17, \"p\": 3, \"P\": [[1, 3, 7, 4, 5, 2, 6, 8], [1, 7, 3, 4, 5, 2, 6, 8], [1, 7, 4, 3, 5, 2, 6, 8]], \"other\": {}}\n"
     ]
    }
   ],
   "source": [
    "if D.shape[0] <= 8: # Only solve small problems\n",
    "    search = pyrankability.exact.ExhaustiveSearch(Dsmall)\n",
    "    search.find_P()\n",
    "\n",
    "    print(pyrankability.common.as_json(search.k,search.P,{}))\n",
    "\n",
    "    p = len(search.P)\n",
    "    k = search.k"
   ]
  },
  {
   "cell_type": "code",
   "execution_count": 100,
   "metadata": {},
   "outputs": [],
   "source": [
    "def greedy(D,l):\n",
    "    D = np.copy(D) # Leave the original untouched\n",
    "    for niter in range(l):\n",
    "        n=D.shape[0]\n",
    "        \n",
    "        k,P,X,Y,k2 = pyrankability.lp.lp(D)\n",
    "\n",
    "        mult = 100\n",
    "        X = np.round(X*mult)/mult\n",
    "        Y = np.round(Y*mult)/mult\n",
    "\n",
    "        T0 = np.zeros((n,n))\n",
    "        T1 = np.zeros((n,n))\n",
    "        inxs = np.where(D + D.transpose() == 0)\n",
    "        T0[inxs] = 1\n",
    "        inxs = np.where(D + D.transpose() == 2)\n",
    "        T1[inxs] = 1\n",
    "        T0[np.arange(n),np.arange(n)]= 0\n",
    "        T1[np.arange(n),np.arange(n)] = 0\n",
    "\n",
    "        DOM = D + X - Y\n",
    "\n",
    "        Madd=T0*DOM # note: DOM = P_> in paper\n",
    "        M1 = Madd # Copy Madd into M, % Madd identifies values >0 in P_> that have 0-tied values in D\n",
    "        M1[Madd<=0] = np.nan # Set anything <= 0 to NaN\n",
    "        min_inx = np.nanargmin(M1) # Find min value and index\n",
    "        bestlinktoadd_i, bestlinktoadd_j = np.unravel_index(min_inx,M1.shape) # adding (i,j) link associated with\n",
    "        # smallest nonzero value in Madd is likely to produce greatest improvement in rankability\n",
    "        minMadd = M1[bestlinktoadd_i, bestlinktoadd_j]\n",
    "\n",
    "        Mdelete=T1*DOM # note: DOM = P_> in paper\n",
    "        Mdelete=Mdelete*(Mdelete<1) # Mdelete identifies values <1 in P_> that have 1-tied values in D\n",
    "        bestlinktodelete_i, bestlinktodelete_j=np.unravel_index(np.nanargmax(Mdelete), Mdelete.shape) # deleting (i,j) link associated with\n",
    "        # largest non-unit (less than 1) value in Mdelete is likely to produce greatest improvement in rankability\n",
    "        maxMdelete = Mdelete[bestlinktodelete_i, bestlinktodelete_j]\n",
    "\n",
    "        # This next section modifies D to create Dtilde\n",
    "        Dtilde = np.copy(D) # initialize Dtilde\n",
    "        # choose whether to add or remove a link depending on which will have the biggest\n",
    "        # impact on reducing the size of the set P\n",
    "        # PAUL: Or if we only want to do link addition, you don't need to form\n",
    "        # Mdelete and find the largest non-unit value in it. And vice versa, if\n",
    "        # only link removal is desired, don't form Madd.\n",
    "        if (1-minMadd)>maxMdelete and p>=2:\n",
    "            formatSpec = 'The best one-link way to improve rankability is by adding a link from %d to %d.\\nThis one modification removes about %.10f percent of the rankings in P.'%(bestlinktoadd_i,bestlinktoadd_j,(1-minMadd)*100)\n",
    "            print(formatSpec)\n",
    "            Dtilde[bestlinktoadd_i,bestlinktoadd_j]=1 # adds this link, creating one-mod Dtilde\n",
    "        elif 1-minMadd<maxMdelete and p>=2:\n",
    "            formatSpec = 'The best one-link way to improve rankability is by deleting the link from %d to %d.\\nThis one modification removes about %.10f percent of the rankings in P.' % (bestlinktodelete_i,bestlinktodelete_j,maxMdelete*100)\n",
    "            print(formatSpec)\n",
    "            Dtilde[bestlinktodelete_i,bestlinktodelete_j] = 0 # removes this link, creating one-mod Dtilde\n",
    "            \n",
    "        D = Dtilde"
   ]
  },
  {
   "cell_type": "code",
   "execution_count": 101,
   "metadata": {},
   "outputs": [
    {
     "name": "stdout",
     "output_type": "stream",
     "text": [
      "The best one-link way to improve rankability is by adding a link from 28 to 14.\n",
      "This one modification removes about 91.0000000000 percent of the rankings in P.\n"
     ]
    }
   ],
   "source": [
    "Dtilde = greedy(D,1)"
   ]
  },
  {
   "cell_type": "code",
   "execution_count": 95,
   "metadata": {},
   "outputs": [
    {
     "name": "stdout",
     "output_type": "stream",
     "text": [
      "{\"k\": 16, \"p\": 1, \"P\": [[1, 7, 4, 3, 5, 2, 6, 8]], \"other\": {}}\n"
     ]
    }
   ],
   "source": [
    "search = pyrankability.exact.ExhaustiveSearch(Dtilde)\n",
    "search.find_P()\n",
    "\n",
    "print(pyrankability.common.as_json(search.k,search.P,{}))"
   ]
  },
  {
   "cell_type": "code",
   "execution_count": 57,
   "metadata": {},
   "outputs": [
    {
     "data": {
      "text/plain": [
       "(24, 0)"
      ]
     },
     "execution_count": 57,
     "metadata": {},
     "output_type": "execute_result"
    }
   ],
   "source": [
    "bestlinktoadd_i, bestlinktoadd_j"
   ]
  },
  {
   "cell_type": "code",
   "execution_count": null,
   "metadata": {},
   "outputs": [],
   "source": [
    "\n",
    "\n",
    "    % Form modification matrices Madd (M_+) and Mdelete (M_-), which are used\n",
    "    % to determine which link modification most improves rankability\n",
    "\n",
    "\n",
    "    Mdelete=T1.*DOM; % note: DOM = P_> in paper\n",
    "    Mdelete=Mdelete.*(Mdelete<1); % Mdelete identifies values <1 in P_> that have 1-tied values in D\n",
    "    maxMdelete=max(max(Mdelete));\n",
    "    [bestlinktodelete_i bestlinktodelete_j]=find(Mdelete==maxMdelete);  % deleting (i,j) link associated with\n",
    "    % largest non-unit (less than 1) value in Mdelete is likely to produce greatest improvement in rankability\n",
    "\n",
    "\n",
    "    % This next section modifies D to create Dtilde\n",
    "    Dtilde=D; % initialize Dtilde\n",
    "    % choose whether to add or remove a link depending on which will have the biggest\n",
    "    % impact on reducing the size of the set P\n",
    "    % PAUL: Or if we only want to do link addition, you don't need to form\n",
    "    % Mdelete and find the largest non-unit value in it. And vice versa, if\n",
    "    % only link removal is desired, don't form Madd.\n",
    "    if 1-minMadd>maxMdelete & p>=2\n",
    "        formatSpec = 'The best one-link way to improve rankability is by adding a link from %4.f to %4.f.\\nThis one modification removes about %2.f percent of the rankings in P.';\n",
    "        fprintf(formatSpec,bestlinktoadd_i(1),bestlinktoadd_j(1),(1-minMadd)*100)\n",
    "        Dtilde(bestlinktoadd_i(1),bestlinktoadd_j(1))=1; % adds this link, creating one-mod Dtilde\n",
    "    elseif 1-minMadd<maxMdelete & p>=2\n",
    "        formatSpec = 'The best one-link way to improve rankability is by deleting the link from %4.f to %4.f.\\nThis one modification removes about %2.f percent of the rankings in P.';\n",
    "        fprintf(formatSpec,bestlinktodelete_i(1),bestlinktodelete_j(1),maxMdelete*100)\n",
    "        Dtilde(bestlinktodelete_i(1),bestlinktodelete_j(1))=0; % removes this link, creating one-mod Dtilde\n",
    "    end\n",
    "\n",
    "\n",
    "    % set D=Dtilde and repeat until l link modifications have been made or\n",
    "    % p=1\n",
    "    D=Dtilde;"
   ]
  }
 ],
 "metadata": {
  "kernelspec": {
   "display_name": "Python 3",
   "language": "python",
   "name": "python3"
  },
  "language_info": {
   "codemirror_mode": {
    "name": "ipython",
    "version": 3
   },
   "file_extension": ".py",
   "mimetype": "text/x-python",
   "name": "python",
   "nbconvert_exporter": "python",
   "pygments_lexer": "ipython3",
   "version": "3.6.7"
  }
 },
 "nbformat": 4,
 "nbformat_minor": 2
}
